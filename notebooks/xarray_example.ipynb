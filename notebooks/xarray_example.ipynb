{
 "cells": [
  {
   "cell_type": "markdown",
   "id": "db290498",
   "metadata": {
    "lines_to_next_cell": 0,
    "region_name": "md"
   },
   "source": [
    "\n",
    "# Rendering XArray data with Vapor\n",
    "\n",
    "Vapor supports render XArray data in a similar fashion to Numpy data\n",
    "In order to pass XArray data to Vapor, create a data set of the type `vapor.dataset.PYTHON`\n",
    "This can also be done with the convenience function `Session.CreatePythonDataset()`.\n",
    "You can add XArray variables as vapor variables to that dataset by using `Dataset.AddXArrayData`.\n",
    "\n",
    "These variables can then be rendered normally using any of Vapor's renderers.\n"
   ]
  },
  {
   "cell_type": "code",
   "execution_count": null,
   "id": "5e3fe658",
   "metadata": {
    "lines_to_next_cell": 1
   },
   "outputs": [],
   "source": [
    "\n",
    "import example_utils\n",
    "from vapor import session, renderer, dataset, camera\n",
    "import xarray as xr\n",
    "import numpy as np\n",
    "from math import cos, sin, pi\n",
    "\n",
    "ses = session.Session()\n",
    "data = ses.CreatePythonDataset()"
   ]
  },
  {
   "cell_type": "markdown",
   "id": "db6b0851",
   "metadata": {
    "lines_to_next_cell": 0,
    "region_name": "md"
   },
   "source": [
    "\n",
    "Below we generate an XArray variable that consists of a curvilinear 2D grid.\n",
    "You can also open an existing dataset with `xarray.open_dataset` and use variables in that dataset.\n"
   ]
  },
  {
   "cell_type": "code",
   "execution_count": null,
   "id": "33bf2e00",
   "metadata": {},
   "outputs": [],
   "source": [
    "def gen2d(w,h,f):\n",
    "    \"\"\"Generate a 2D grid of size (w,h) by evaluating f(x,y) for every x,y coordinate\"\"\"\n",
    "    ay = []\n",
    "    for y in range(0,h):\n",
    "        ax = []\n",
    "        for x in range(0,w):\n",
    "            ax += [f(x,y)]\n",
    "        ay += [ax]\n",
    "    return ay\n",
    "\n",
    "w = h = 8\n",
    "curveVar = xr.DataArray(\n",
    "    np.random.randn(8, 8),\n",
    "    dims=(\"x\", \"y\"),\n",
    "    coords={\n",
    "        \"x_coord\": xr.DataArray(gen2d(8,8,lambda x,y: cos(y/(h-1)*pi) * (x+(w+1))), dims=(\"x\", \"y\")),\n",
    "        \"y_coord\": xr.DataArray(gen2d(8,8,lambda x,y: sin(y/(h-1)*pi) * (x+(w+1))), dims=(\"x\", \"y\"))\n",
    "    })\n",
    "\n",
    "data.AddXArrayData(\"variable_name\", curveVar)"
   ]
  },
  {
   "cell_type": "code",
   "execution_count": null,
   "id": "9c890a9d",
   "metadata": {},
   "outputs": [],
   "source": [
    "\n",
    "# Create a renderer for the data\n",
    "\n",
    "ren = data.NewRenderer(renderer.WireFrameRenderer)\n",
    "ren.SetVariableName(\"variable_name\")"
   ]
  },
  {
   "cell_type": "code",
   "execution_count": null,
   "id": "c281fa62",
   "metadata": {},
   "outputs": [],
   "source": [
    "\n",
    "# Show the rendering\n",
    "\n",
    "ses.GetCamera().ViewAll()\n",
    "ses.Show()"
   ]
  },
  {
   "cell_type": "code",
   "execution_count": null,
   "id": "c2fb4670",
   "metadata": {},
   "outputs": [],
   "source": [
    "\n",
    "ses.DeleteRenderer(ren)"
   ]
  },
  {
   "cell_type": "markdown",
   "id": "59d7b369",
   "metadata": {
    "lines_to_next_cell": 0,
    "region_name": "md"
   },
   "source": [
    "\n",
    "Below we generate an XArray variable that consists of a curvilinear 3D grid.\n"
   ]
  },
  {
   "cell_type": "code",
   "execution_count": null,
   "id": "5ffb9598",
   "metadata": {},
   "outputs": [],
   "source": [
    "\n",
    "def gen3d(w,h,d,f):\n",
    "    \"\"\"Generate a 3D grid of size (w,h,d) by evaluating f(x,y,z) for every x,y,z coordinate\"\"\"\n",
    "    az = []\n",
    "    for z in range(0,d):\n",
    "        ay = []\n",
    "        for y in range(0,h):\n",
    "            ax = []\n",
    "            for x in range(0,w):\n",
    "                ax += [f(x,y,z)]\n",
    "            ay += [ax]\n",
    "        az += [ay]\n",
    "    return az\n",
    "\n",
    "\n",
    "w = h = d = 8\n",
    "curveVar = xr.DataArray(\n",
    "    gen3d(w,h,d,lambda x,y,z: z*w*h + y*w + x),\n",
    "    dims=(\"x\", \"y\", \"z\"),\n",
    "    coords={\n",
    "        \"x_coord\": xr.DataArray(gen2d(w,h,lambda x,y: x), dims=(\"x\", \"y\")),\n",
    "        \"y_coord\": xr.DataArray(gen2d(w,h,lambda x,y: y), dims=(\"x\", \"y\")),\n",
    "        \"z_coord\": xr.DataArray(gen3d(w,h,d,lambda x,y,z: z), dims=(\"x\", \"y\", \"z\")),\n",
    "    })\n",
    "\n",
    "data.AddXArrayData(\"variable_3d\", curveVar)"
   ]
  },
  {
   "cell_type": "code",
   "execution_count": null,
   "id": "6ea78e51",
   "metadata": {},
   "outputs": [],
   "source": [
    "\n",
    "# Create a renderer for the data\n",
    "\n",
    "ren = data.NewRenderer(renderer.WireFrameRenderer)\n",
    "ren.SetVariableName(\"variable_3d\")"
   ]
  },
  {
   "cell_type": "code",
   "execution_count": null,
   "id": "95968aaa",
   "metadata": {},
   "outputs": [],
   "source": [
    "\n",
    "# Show the rendering\n",
    "\n",
    "ses.GetCamera().ViewAll()\n",
    "ses.Show()"
   ]
  }
 ],
 "metadata": {
  "jupytext": {
   "cell_metadata_filter": "region_name,-all",
   "main_language": "python",
   "notebook_metadata_filter": "-all"
  }
 },
 "nbformat": 4,
 "nbformat_minor": 5
}