{
 "cells": [
  {
   "cell_type": "markdown",
   "id": "33299332",
   "metadata": {
    "lines_to_next_cell": 0,
    "region_name": "md"
   },
   "source": [
    "\n",
    "# Opening Datasets\n",
    "\n",
    "Vapor supports a variety of scientific data formats.\n",
    "This notebook shows how to open a dataset and query its metadata.\n"
   ]
  },
  {
   "cell_type": "code",
   "execution_count": null,
   "id": "a22bafe0",
   "metadata": {},
   "outputs": [],
   "source": [
    "import example_utils\n",
    "from vapor import session, renderer, dataset, camera"
   ]
  },
  {
   "cell_type": "code",
   "execution_count": null,
   "id": "0e974684",
   "metadata": {},
   "outputs": [],
   "source": [
    "print(\"Supported dataset types:\", dataset.Dataset.GetDatasetTypes())"
   ]
  },
  {
   "cell_type": "code",
   "execution_count": null,
   "id": "7e514e56",
   "metadata": {},
   "outputs": [],
   "source": [
    "ses = session.Session()\n",
    "data = example_utils.OpenExampleDataset(ses)\n",
    "\n",
    "# Examples of opening real data\n",
    "#\n",
    "# data = ses.OpenDataset(dataset.WRF, [\"data/wrf_out.0001\", \"data/wrf_out.0002\"])\n",
    "# data = ses.OpenDataset(dataset.VDC, [\"master.vdc\"])\n",
    "# data = ses.OpenDataset(dataset.MPAS, [\"x1.static.nc\", \"diag.2021-03-04_10.30.00.nc\"])"
   ]
  },
  {
   "cell_type": "markdown",
   "id": "7e3b1ecc",
   "metadata": {
    "lines_to_next_cell": 0,
    "region_name": "md"
   },
   "source": [
    "\n",
    "## Dump the dataset metadata\n"
   ]
  },
  {
   "cell_type": "code",
   "execution_count": null,
   "id": "38ef1644",
   "metadata": {},
   "outputs": [],
   "source": [
    "print(\"Time Coordinate Variable Name:\", data.GetTimeCoordVarName())\n",
    "print(\"Coordinate Variable Names:\", data.GetCoordVarNames())\n",
    "\n",
    "print(\"Dimensions:\")\n",
    "for dim in data.GetDimensionNames():\n",
    "    print(f\"  {dim}:\", data.GetDimensionLength(dim, 0))\n",
    "\n",
    "print(\"Data Variables:\")\n",
    "for var in data.GetDataVarNames():\n",
    "    print(f\"  {var}\")\n",
    "    print(f\"    Time Varying:\", bool(data.IsTimeVarying(var)))\n",
    "    print(f\"    Dimensionality:\", data.GetVarGeometryDim(var))\n",
    "    print(f\"    Coordinates:\", data.GetVarCoordVars(var, True))\n",
    "    print(\"     Data Range:\", data.GetDataRange(var))"
   ]
  },
  {
   "cell_type": "markdown",
   "id": "0dd146e8",
   "metadata": {
    "lines_to_next_cell": 0,
    "region_name": "md"
   },
   "source": [
    "\n",
    "## Render the first 2D variable as a wireframe\n"
   ]
  },
  {
   "cell_type": "code",
   "execution_count": null,
   "id": "ffc35679",
   "metadata": {},
   "outputs": [],
   "source": [
    "ren = data.NewRenderer(renderer.WireFrameRenderer)\n",
    "ren.SetVariableName(data.GetDataVarNames(2)[0]) # Set to first 2D data variable\n",
    "\n",
    "ses.GetCamera().ViewAll()\n",
    "ses.Show()"
   ]
  }
 ],
 "metadata": {
  "jupytext": {
   "cell_metadata_filter": "region_name,-all",
   "main_language": "python",
   "notebook_metadata_filter": "-all"
  }
 },
 "nbformat": 4,
 "nbformat_minor": 5
}