{
 "cells": [
  {
   "cell_type": "markdown",
   "id": "d923a2e5",
   "metadata": {
    "lines_to_next_cell": 0,
    "region_name": "md"
   },
   "source": [
    "\n",
    "# Annotations\n",
    "\n",
    "You can annotate your renderings using Vapor's build in annotations as well as MatPlotLib\n"
   ]
  },
  {
   "cell_type": "code",
   "execution_count": null,
   "id": "34459ddf",
   "metadata": {},
   "outputs": [],
   "source": [
    "import example_utils\n",
    "from vapor import session, renderer, dataset, camera, utils\n",
    "\n",
    "ses = session.Session()\n",
    "data = example_utils.OpenExampleDataset(ses)\n",
    "\n",
    "ren = data.NewRenderer(renderer.TwoDDataRenderer)\n",
    "ren.SetVariableName(data.GetDataVarNames(2)[1])\n",
    "ses.GetCamera().ViewAll()"
   ]
  },
  {
   "cell_type": "markdown",
   "id": "a2340ea8",
   "metadata": {
    "lines_to_next_cell": 0,
    "region_name": "md"
   },
   "source": [
    "\n",
    "## Vapor Colorbars\n"
   ]
  },
  {
   "cell_type": "code",
   "execution_count": null,
   "id": "6e90c2b4",
   "metadata": {},
   "outputs": [],
   "source": [
    "# Show the basic colorbar annotation for a renderer\n",
    "colorbar = ren.GetColorbarAnnotation()\n",
    "colorbar.SetEnabled(True)\n",
    "ses.Show()"
   ]
  },
  {
   "cell_type": "code",
   "execution_count": null,
   "id": "36a9e297",
   "metadata": {},
   "outputs": [],
   "source": [
    "# Customized colorbar annotation\n",
    "colorbar.SetSize((0.2, 0.25))\n",
    "colorbar.SetTitle(\"Colorbar Title\")\n",
    "colorbar.SetCornerPosition((0.95, 0.95))\n",
    "ses.Show()"
   ]
  },
  {
   "cell_type": "markdown",
   "id": "f6d9bc27",
   "metadata": {
    "lines_to_next_cell": 0,
    "region_name": "md"
   },
   "source": [
    "\n",
    "## MatPlotLib Colorbars\n",
    "\n",
    "You can customize the histograms as you would MatPlotLib's `pylab.colorbar`\n"
   ]
  },
  {
   "cell_type": "code",
   "execution_count": null,
   "id": "11bd70af",
   "metadata": {},
   "outputs": [],
   "source": [
    "tf = ren.GetPrimaryTransferFunction()\n",
    "tf.ShowMatPlotLibColorbar()"
   ]
  },
  {
   "cell_type": "code",
   "execution_count": null,
   "id": "4e83b1aa",
   "metadata": {},
   "outputs": [],
   "source": [
    "tf.ShowMatPlotLibColorbar(orientation=\"vertical\", figsize=(1.5,4))"
   ]
  },
  {
   "cell_type": "code",
   "execution_count": null,
   "id": "ff82e878",
   "metadata": {},
   "outputs": [],
   "source": [
    "# The MatPlotLib Colorbars are automatically synced to Vapor's transfer functions\n",
    "tf.LoadBuiltinColormap(tf.ListBuiltinColormaps()[7])\n",
    "ses.Show()\n",
    "tf.ShowMatPlotLibColorbar()"
   ]
  },
  {
   "cell_type": "code",
   "execution_count": null,
   "id": "041fed42",
   "metadata": {},
   "outputs": [],
   "source": [
    "colorbar.SetEnabled(False)"
   ]
  },
  {
   "cell_type": "markdown",
   "id": "373052ce",
   "metadata": {
    "lines_to_next_cell": 0,
    "region_name": "md"
   },
   "source": [
    "\n",
    "## MatPlotLib Histograms\n"
   ]
  },
  {
   "cell_type": "code",
   "execution_count": null,
   "id": "4c3575b4",
   "metadata": {},
   "outputs": [],
   "source": [
    "utils.ShowMatPlotLibHistogram(ses, ren)"
   ]
  },
  {
   "cell_type": "markdown",
   "id": "51bf226c",
   "metadata": {
    "lines_to_next_cell": 0,
    "region_name": "md"
   },
   "source": [
    "---\n",
    "You can customize the histograms as you would `matplotlib.pyplot.hist`\n"
   ]
  },
  {
   "cell_type": "code",
   "execution_count": null,
   "id": "3c3fa16b",
   "metadata": {},
   "outputs": [],
   "source": [
    "plt = utils.GetMatPlotLibHistogram(ses, ren, color =\"red\")\n",
    "plt.xlabel(\"X-Axis\")\n",
    "plt.ylabel(\"Y-Axis\")\n",
    "plt.title(\"Title\\n\", fontweight=\"bold\")\n",
    "plt.show()"
   ]
  },
  {
   "cell_type": "markdown",
   "id": "4dc36e36",
   "metadata": {
    "lines_to_next_cell": 0,
    "region_name": "md"
   },
   "source": [
    "\n",
    "## Axis Annotations\n"
   ]
  },
  {
   "cell_type": "code",
   "execution_count": null,
   "id": "fa7e0e9d",
   "metadata": {},
   "outputs": [],
   "source": [
    "axis = ses.GetAxisAnnotations()\n",
    "axis.SetAxisAnnotationEnabled(True)\n",
    "ses.Show()"
   ]
  },
  {
   "cell_type": "code",
   "execution_count": null,
   "id": "03dce64a",
   "metadata": {},
   "outputs": [],
   "source": [
    "axis.SetNumTics((5,5))\n",
    "axis.SetAxisFontSize(24)\n",
    "ses.Show()\n",
    "\n",
    "# This example dataset is not geo-referenced\n",
    "# axis.SetLatLonAxesEnabled(True)"
   ]
  },
  {
   "cell_type": "code",
   "execution_count": null,
   "id": "09038e6a",
   "metadata": {},
   "outputs": [],
   "source": [
    "axis.SetAxisAnnotationEnabled(False)"
   ]
  },
  {
   "cell_type": "markdown",
   "id": "218085fc",
   "metadata": {
    "lines_to_next_cell": 0,
    "region_name": "md"
   },
   "source": [
    "\n",
    "## Scene Annotations\n",
    "\n",
    "Scene annotations are other annotations and rendering options that apply to the entire rendering such as background color.\n"
   ]
  },
  {
   "cell_type": "code",
   "execution_count": null,
   "id": "01a69269",
   "metadata": {},
   "outputs": [],
   "source": [
    "scene = ses.GetSceneAnnotations()\n",
    "scene.SetBackgroundColor((1,1,1))\n",
    "scene.SetUseDomainFrame(False)\n",
    "ses.Show()"
   ]
  },
  {
   "cell_type": "code",
   "execution_count": null,
   "id": "a82f6951",
   "metadata": {},
   "outputs": [],
   "source": [
    "scene.SetAxisArrowEnabled(True)\n",
    "scene.SetAxisArrowSize(0.4)\n",
    "\n",
    "scene.SetTimeType(scene.TimeAnnotationType.Timestep)\n",
    "scene.SetTimeColor((0,0,0))\n",
    "scene.SetTimeLLX(0.7)\n",
    "\n",
    "ses.Show()"
   ]
  }
 ],
 "metadata": {
  "jupytext": {
   "cell_metadata_filter": "region_name,-all",
   "main_language": "python",
   "notebook_metadata_filter": "-all"
  }
 },
 "nbformat": 4,
 "nbformat_minor": 5
}