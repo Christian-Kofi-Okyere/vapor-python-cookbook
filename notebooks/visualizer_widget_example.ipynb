{
 "cells": [
  {
   "cell_type": "markdown",
   "id": "5b88d319",
   "metadata": {
    "lines_to_next_cell": 0,
    "region_name": "md"
   },
   "source": [
    "\n",
    "# Visualizer Widgets\n",
    "\n",
    "Visualizer widgets allow you to interactively explore a session as you would in a Vapor GUI visualizer.\n",
    "This notebook shows how to use visualizer widgets and how to add additional dynamic parameter inputs.\n"
   ]
  },
  {
   "cell_type": "code",
   "execution_count": null,
   "id": "56d9ec34",
   "metadata": {},
   "outputs": [],
   "source": [
    "import example_utils\n",
    "from vapor import session, renderer, dataset, camera\n",
    "\n",
    "ses = session.Session()\n",
    "data = example_utils.OpenExampleDataset(ses)"
   ]
  },
  {
   "cell_type": "markdown",
   "id": "370a6c24",
   "metadata": {
    "lines_to_next_cell": 0,
    "region_name": "md"
   },
   "source": [
    "\n",
    "## Render an Iso Surface\n"
   ]
  },
  {
   "cell_type": "code",
   "execution_count": null,
   "id": "f3a3f641",
   "metadata": {},
   "outputs": [],
   "source": [
    "ren = data.NewRenderer(renderer.VolumeIsoRenderer)\n",
    "ren.SetVariableName(data.GetDataVarNames(3)[0]) # Set to first 2D data variable\n",
    "ren.SetIsoValues([ren.GetIsoValues()[0]+0.1])\n",
    "\n",
    "ses.GetCamera().ViewAll()\n",
    "ses.Show()"
   ]
  },
  {
   "cell_type": "markdown",
   "id": "7dab5091",
   "metadata": {
    "lines_to_next_cell": 0,
    "region_name": "md"
   },
   "source": [
    "\n",
    "## Create a visualizer to explore the scene\n",
    "\n",
    "Try dragging the image to rotate the view.\n",
    "Hover over the visualizer to see the full controls.\n"
   ]
  },
  {
   "cell_type": "code",
   "execution_count": null,
   "id": "3225350e",
   "metadata": {},
   "outputs": [],
   "source": [
    "from jupyter_vapor_widget import *\n",
    "\n",
    "viz = VaporVisualizerWidget(ses)\n",
    "viz"
   ]
  },
  {
   "cell_type": "markdown",
   "id": "0f6ba9b2",
   "metadata": {
    "lines_to_next_cell": 0,
    "region_name": "md"
   },
   "source": [
    "\n",
    "## Add an interactive iso value slider using **ipywidgets**\n"
   ]
  },
  {
   "cell_type": "code",
   "execution_count": null,
   "id": "9a266821",
   "metadata": {},
   "outputs": [],
   "source": [
    "tf = ren.GetPrimaryTransferFunction()\n",
    "dataRange = tf.GetMinMaxMapValue()\n",
    "\n",
    "def sliderChanged(change):\n",
    "    ren.SetIsoValues([change.new])\n",
    "    viz.Render(fast=True)\n",
    "\n",
    "slider = widgets.FloatSlider(value=ren.GetIsoValues()[0], min=dataRange[0], max=dataRange[1], step=(dataRange[1]-dataRange[0])/100)\n",
    "slider.observe(sliderChanged, names='value')\n",
    "\n",
    "widgets.VBox([\n",
    "    viz,\n",
    "    widgets.HBox([widgets.Label(\"Iso value:\"), slider])\n",
    "])"
   ]
  }
 ],
 "metadata": {
  "jupytext": {
   "cell_metadata_filter": "region_name,-all",
   "main_language": "python",
   "notebook_metadata_filter": "-all"
  }
 },
 "nbformat": 4,
 "nbformat_minor": 5
}