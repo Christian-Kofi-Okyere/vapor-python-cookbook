{
 "cells": [
  {
   "cell_type": "markdown",
   "id": "17853a82",
   "metadata": {
    "lines_to_next_cell": 0,
    "region_name": "md"
   },
   "source": [
    "\n",
    "# Controlling the Camera\n"
   ]
  },
  {
   "cell_type": "code",
   "execution_count": null,
   "id": "66d6c5a3",
   "metadata": {},
   "outputs": [],
   "source": [
    "import example_utils\n",
    "from vapor import session, renderer, dataset, camera\n",
    "\n",
    "ses = session.Session()\n",
    "data = example_utils.OpenExampleDataset(ses)\n",
    "\n",
    "ren = data.NewRenderer(renderer.VolumeIsoRenderer)\n",
    "ren.SetIsoValues([-0.10, 0.2])\n",
    "\n",
    "# Show 3D orientation arrows.\n",
    "ses.GetSceneAnnotations().SetAxisArrowEnabled(True)"
   ]
  },
  {
   "cell_type": "code",
   "execution_count": null,
   "id": "1ff16cd4",
   "metadata": {},
   "outputs": [],
   "source": [
    "cam = ses.GetCamera()"
   ]
  },
  {
   "cell_type": "code",
   "execution_count": null,
   "id": "8dcf2c03",
   "metadata": {},
   "outputs": [],
   "source": [
    "help(cam.ViewAll)\n",
    "cam.ViewAll()\n",
    "ses.Show()"
   ]
  },
  {
   "cell_type": "code",
   "execution_count": null,
   "id": "ac8b9555",
   "metadata": {},
   "outputs": [],
   "source": [
    "help(cam.AlignView)\n",
    "cam.AlignView(\"-X\")\n",
    "ses.Show()"
   ]
  },
  {
   "cell_type": "code",
   "execution_count": null,
   "id": "8a64d276",
   "metadata": {},
   "outputs": [],
   "source": [
    "help(cam.Zoom)\n",
    "cam.Zoom(-0.4)\n",
    "ses.Show()"
   ]
  },
  {
   "cell_type": "code",
   "execution_count": null,
   "id": "2fbb0bc7",
   "metadata": {},
   "outputs": [],
   "source": [
    "help(cam.LookAt)\n",
    "cam.LookAt((32, -100, 100), ren.GetTransform().GetOrigin())\n",
    "ses.Show()"
   ]
  }
 ],
 "metadata": {
  "jupytext": {
   "cell_metadata_filter": "region_name,-all",
   "main_language": "python",
   "notebook_metadata_filter": "-all"
  }
 },
 "nbformat": 4,
 "nbformat_minor": 5
}