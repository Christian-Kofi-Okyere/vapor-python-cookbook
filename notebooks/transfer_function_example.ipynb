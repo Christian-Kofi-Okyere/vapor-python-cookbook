{
 "cells": [
  {
   "cell_type": "markdown",
   "id": "56720ff6",
   "metadata": {
    "lines_to_next_cell": 0,
    "region_name": "md"
   },
   "source": [
    "\n",
    "# Transfer Functions\n"
   ]
  },
  {
   "cell_type": "code",
   "execution_count": null,
   "id": "3a26a72b",
   "metadata": {},
   "outputs": [],
   "source": [
    "import example_utils\n",
    "from vapor import session, renderer, dataset, camera, utils, transferfunction\n",
    "\n",
    "ses = session.Session()\n",
    "data = example_utils.OpenExampleDataset(ses)\n",
    "\n",
    "ren = data.NewRenderer(renderer.VolumeRenderer)\n",
    "ses.GetCamera().LookAt((32, 120, 120), (32, 32, 32))\n",
    "ses.Show()"
   ]
  },
  {
   "cell_type": "markdown",
   "id": "957b7e34",
   "metadata": {
    "lines_to_next_cell": 0,
    "region_name": "md"
   },
   "source": [
    "\n",
    "We created a volume rendering however it is fully opaque.\n",
    "We can use a transfer function to adjust the visible portions.\n",
    "Before we adjust the opacity map of the TF, we get a histogram to help us determine what we want to hide.\n"
   ]
  },
  {
   "cell_type": "code",
   "execution_count": null,
   "id": "93a4da2e",
   "metadata": {},
   "outputs": [],
   "source": [
    "utils.ShowMatPlotLibHistogram(ses, ren)"
   ]
  },
  {
   "cell_type": "markdown",
   "id": "56e9c4d0",
   "metadata": {
    "lines_to_next_cell": 0,
    "region_name": "md"
   },
   "source": [
    "\n",
    "Usually we want to hide the most common value so below we construct an opacity map that accomplishes this.\n"
   ]
  },
  {
   "cell_type": "code",
   "execution_count": null,
   "id": "8bc95b35",
   "metadata": {},
   "outputs": [],
   "source": [
    "# List of x,y pairs where x is the data value and y is the opacity for that data value\n",
    "opacities = [(-0.3, 1), (-0.1, 0), (0.1, 0), (0.3, 1)]"
   ]
  },
  {
   "cell_type": "markdown",
   "id": "8b9d9783",
   "metadata": {
    "lines_to_next_cell": 0,
    "region_name": "md"
   },
   "source": [
    "\n",
    "We can get the matplotlib histogram plot and add our opacity map to it to compare.\n"
   ]
  },
  {
   "cell_type": "code",
   "execution_count": null,
   "id": "6a6f23d5",
   "metadata": {},
   "outputs": [],
   "source": [
    "plt = utils.GetMatPlotLibHistogram(ses, ren)\n",
    "plt.plot(*zip(*opacities))\n",
    "plt.show()"
   ]
  },
  {
   "cell_type": "markdown",
   "id": "2a5006dd",
   "metadata": {
    "lines_to_next_cell": 0,
    "region_name": "md"
   },
   "source": [
    "\n",
    "Now we apply the map to the transfer function\n"
   ]
  },
  {
   "cell_type": "code",
   "execution_count": null,
   "id": "d36f4096",
   "metadata": {},
   "outputs": [],
   "source": [
    "# Renderers can have multiple transfer functions.\n",
    "# GetPrimaryTransferFunction returns the one that is usually the most useful.\n",
    "# You can use `tf.GetTransferFunction(var_name)` to get other transfer functions.\n",
    "tf = ren.GetPrimaryTransferFunction()\n",
    "tf.SetOpacityControlPoints(opacities)\n",
    "ses.Show()"
   ]
  },
  {
   "cell_type": "markdown",
   "id": "8b5358e3",
   "metadata": {
    "lines_to_next_cell": 0,
    "region_name": "md"
   },
   "source": [
    "\n",
    "You can adjust the colormap in a similar fashion. Use `help(tf)` for more information.\n",
    "Vapor includes a list of built-in colormaps and these can be applied with `tf.LoadBuiltinColormap(name)`\n",
    "\n",
    "## Builtin Colormaps\n"
   ]
  },
  {
   "cell_type": "code",
   "execution_count": null,
   "id": "4b10f2b3",
   "metadata": {},
   "outputs": [],
   "source": [
    "tf.LoadBuiltinColormap(\"Sequential/BlackBodyExtended\")\n",
    "ses.Show()"
   ]
  },
  {
   "cell_type": "markdown",
   "id": "c06b0fad",
   "metadata": {
    "lines_to_next_cell": 0,
    "region_name": "md"
   },
   "source": [
    "\n",
    "## List of All Builtin Colormaps\n"
   ]
  },
  {
   "cell_type": "code",
   "execution_count": null,
   "id": "df19e65a",
   "metadata": {},
   "outputs": [],
   "source": [
    "\n",
    "ses.DeleteRenderer(ren)\n",
    "ren = data.NewRenderer(renderer.TwoDDataRenderer)\n",
    "tf = ren.GetPrimaryTransferFunction()\n",
    "\n",
    "for cmap in transferfunction.TransferFunction.ListBuiltinColormaps():\n",
    "    tf.LoadBuiltinColormap(cmap)\n",
    "\n",
    "    print(cmap)\n",
    "    tf.ShowMatPlotLibColorbar()"
   ]
  }
 ],
 "metadata": {
  "jupytext": {
   "cell_metadata_filter": "region_name,-all",
   "main_language": "python",
   "notebook_metadata_filter": "-all"
  }
 },
 "nbformat": 4,
 "nbformat_minor": 5
}